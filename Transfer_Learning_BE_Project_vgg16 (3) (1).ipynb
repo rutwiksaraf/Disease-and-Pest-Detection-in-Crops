{
  "nbformat": 4,
  "nbformat_minor": 0,
  "metadata": {
    "colab": {
      "provenance": []
    },
    "kernelspec": {
      "name": "python3",
      "display_name": "Python 3"
    },
    "language_info": {
      "name": "python"
    },
    "accelerator": "GPU",
    "gpuClass": "standard"
  },
  "cells": [
    {
      "cell_type": "markdown",
      "source": [
        "## VGG-16"
      ],
      "metadata": {
        "id": "VpselziB2RLx"
      }
    },
    {
      "cell_type": "code",
      "execution_count": null,
      "metadata": {
        "colab": {
          "base_uri": "https://localhost:8080/"
        },
        "id": "O1tHzYoo12Kc",
        "outputId": "cfc33b27-2f6c-489c-96b0-908bdbaff5fc"
      },
      "outputs": [
        {
          "output_type": "stream",
          "name": "stdout",
          "text": [
            "Mounted at /content/drive\n"
          ]
        }
      ],
      "source": [
        "from google.colab import drive\n",
        "drive.mount('/content/drive')"
      ]
    },
    {
      "cell_type": "code",
      "source": [
        "from tensorflow.keras.layers import Input, Lambda, Dense, Flatten\n",
        "from tensorflow.keras.models import Model\n",
        "from tensorflow.keras.applications.vgg16 import VGG16\n",
        "from tensorflow.keras.applications.vgg16 import preprocess_input\n",
        "from tensorflow.keras.preprocessing import image\n",
        "from tensorflow.keras.preprocessing.image import ImageDataGenerator,load_img\n",
        "from tensorflow.keras.models import Sequential\n",
        "import numpy as np\n",
        "from glob import glob"
      ],
      "metadata": {
        "id": "bB07RAnc2MWV"
      },
      "execution_count": null,
      "outputs": []
    },
    {
      "cell_type": "code",
      "source": [
        "IMAGE_SIZE = [224, 224]\n",
        "\n",
        "train_path = '/content/drive/MyDrive/Custom dataset for Diseases and pests/train'\n",
        "valid_path = '/content/drive/MyDrive/Custom dataset for Diseases and pests/val'"
      ],
      "metadata": {
        "id": "vfzCyW922W0I"
      },
      "execution_count": null,
      "outputs": []
    },
    {
      "cell_type": "code",
      "source": [
        "vgg16 = VGG16(input_shape=IMAGE_SIZE + [3], weights='imagenet', include_top=False)"
      ],
      "metadata": {
        "id": "-0mETpj73ShT",
        "colab": {
          "base_uri": "https://localhost:8080/"
        },
        "outputId": "6d7ba686-0044-4688-a70d-38c689e6e0cf"
      },
      "execution_count": null,
      "outputs": [
        {
          "output_type": "stream",
          "name": "stdout",
          "text": [
            "Downloading data from https://storage.googleapis.com/tensorflow/keras-applications/vgg16/vgg16_weights_tf_dim_ordering_tf_kernels_notop.h5\n",
            "58889256/58889256 [==============================] - 4s 0us/step\n"
          ]
        }
      ]
    },
    {
      "cell_type": "code",
      "source": [
        "for layer in vgg16.layers:\n",
        "    layer.trainable = False"
      ],
      "metadata": {
        "id": "gpudQvmL3WjX"
      },
      "execution_count": null,
      "outputs": []
    },
    {
      "cell_type": "code",
      "source": [
        "folders = glob('/content/drive/MyDrive/Custom dataset for Diseases and pests/train/*')"
      ],
      "metadata": {
        "id": "pZ1zKY9Z3Wx4"
      },
      "execution_count": null,
      "outputs": []
    },
    {
      "cell_type": "code",
      "source": [
        "x = Flatten()(vgg16.output)"
      ],
      "metadata": {
        "id": "TxL-jyDq3W9p"
      },
      "execution_count": null,
      "outputs": []
    },
    {
      "cell_type": "code",
      "source": [
        "prediction = Dense(len(folders), activation='softmax')(x)\n",
        "\n",
        "# create a model object\n",
        "model = Model(inputs=vgg16.input, outputs=prediction)"
      ],
      "metadata": {
        "id": "wa6V_p_B3mcj"
      },
      "execution_count": null,
      "outputs": []
    },
    {
      "cell_type": "code",
      "source": [
        "model.summary()"
      ],
      "metadata": {
        "colab": {
          "base_uri": "https://localhost:8080/"
        },
        "id": "ROjJo2kp3mj9",
        "outputId": "9fcb480e-3e73-48b0-86c3-2e54e9127432"
      },
      "execution_count": null,
      "outputs": [
        {
          "output_type": "stream",
          "name": "stdout",
          "text": [
            "Model: \"model\"\n",
            "_________________________________________________________________\n",
            " Layer (type)                Output Shape              Param #   \n",
            "=================================================================\n",
            " input_1 (InputLayer)        [(None, 224, 224, 3)]     0         \n",
            "                                                                 \n",
            " block1_conv1 (Conv2D)       (None, 224, 224, 64)      1792      \n",
            "                                                                 \n",
            " block1_conv2 (Conv2D)       (None, 224, 224, 64)      36928     \n",
            "                                                                 \n",
            " block1_pool (MaxPooling2D)  (None, 112, 112, 64)      0         \n",
            "                                                                 \n",
            " block2_conv1 (Conv2D)       (None, 112, 112, 128)     73856     \n",
            "                                                                 \n",
            " block2_conv2 (Conv2D)       (None, 112, 112, 128)     147584    \n",
            "                                                                 \n",
            " block2_pool (MaxPooling2D)  (None, 56, 56, 128)       0         \n",
            "                                                                 \n",
            " block3_conv1 (Conv2D)       (None, 56, 56, 256)       295168    \n",
            "                                                                 \n",
            " block3_conv2 (Conv2D)       (None, 56, 56, 256)       590080    \n",
            "                                                                 \n",
            " block3_conv3 (Conv2D)       (None, 56, 56, 256)       590080    \n",
            "                                                                 \n",
            " block3_pool (MaxPooling2D)  (None, 28, 28, 256)       0         \n",
            "                                                                 \n",
            " block4_conv1 (Conv2D)       (None, 28, 28, 512)       1180160   \n",
            "                                                                 \n",
            " block4_conv2 (Conv2D)       (None, 28, 28, 512)       2359808   \n",
            "                                                                 \n",
            " block4_conv3 (Conv2D)       (None, 28, 28, 512)       2359808   \n",
            "                                                                 \n",
            " block4_pool (MaxPooling2D)  (None, 14, 14, 512)       0         \n",
            "                                                                 \n",
            " block5_conv1 (Conv2D)       (None, 14, 14, 512)       2359808   \n",
            "                                                                 \n",
            " block5_conv2 (Conv2D)       (None, 14, 14, 512)       2359808   \n",
            "                                                                 \n",
            " block5_conv3 (Conv2D)       (None, 14, 14, 512)       2359808   \n",
            "                                                                 \n",
            " block5_pool (MaxPooling2D)  (None, 7, 7, 512)         0         \n",
            "                                                                 \n",
            " flatten (Flatten)           (None, 25088)             0         \n",
            "                                                                 \n",
            " dense (Dense)               (None, 5)                 125445    \n",
            "                                                                 \n",
            "=================================================================\n",
            "Total params: 14,840,133\n",
            "Trainable params: 125,445\n",
            "Non-trainable params: 14,714,688\n",
            "_________________________________________________________________\n"
          ]
        }
      ]
    },
    {
      "cell_type": "code",
      "source": [
        "model.compile(\n",
        "  loss='categorical_crossentropy',\n",
        "  optimizer='adam',\n",
        "  metrics=['accuracy']\n",
        ")"
      ],
      "metadata": {
        "id": "zEn7Ugty3sFc"
      },
      "execution_count": null,
      "outputs": []
    },
    {
      "cell_type": "code",
      "source": [
        "from tensorflow.keras.preprocessing.image import ImageDataGenerator\n",
        "\n",
        "train_datagen = ImageDataGenerator(rescale = 1./255,\n",
        "                                   shear_range = 0.2,\n",
        "                                   zoom_range = 0.2,\n",
        "                                   horizontal_flip = True)\n",
        "\n",
        "test_datagen = ImageDataGenerator(rescale = 1./255)"
      ],
      "metadata": {
        "id": "5rpZ2K2Z3sJE"
      },
      "execution_count": null,
      "outputs": []
    },
    {
      "cell_type": "code",
      "source": [
        "training_set = train_datagen.flow_from_directory('/content/drive/MyDrive/Custom dataset for Diseases and pests/train',\n",
        "                                                 target_size = (224, 224),\n",
        "                                                 batch_size = 32,\n",
        "                                                 class_mode = 'categorical')"
      ],
      "metadata": {
        "colab": {
          "base_uri": "https://localhost:8080/"
        },
        "id": "kle4-yqw3myT",
        "outputId": "d40333ec-43bc-49f1-b96e-599cb0802ca6"
      },
      "execution_count": null,
      "outputs": [
        {
          "output_type": "stream",
          "name": "stdout",
          "text": [
            "Found 257 images belonging to 5 classes.\n"
          ]
        }
      ]
    },
    {
      "cell_type": "code",
      "source": [
        "test_set = test_datagen.flow_from_directory('/content/drive/MyDrive/Custom dataset for Diseases and pests/test',\n",
        "                                            target_size = (224, 224),\n",
        "                                            batch_size = 32,\n",
        "                                            class_mode = 'categorical')"
      ],
      "metadata": {
        "colab": {
          "base_uri": "https://localhost:8080/"
        },
        "id": "nTln5fcI3xrt",
        "outputId": "3e1412e8-743b-47df-ce72-b9aaa946cf87"
      },
      "execution_count": null,
      "outputs": [
        {
          "output_type": "stream",
          "name": "stdout",
          "text": [
            "Found 35 images belonging to 5 classes.\n"
          ]
        }
      ]
    },
    {
      "cell_type": "code",
      "source": [
        "r = model.fit_generator(\n",
        "  training_set,\n",
        "  validation_data=test_set,\n",
        "  epochs=10,\n",
        "  steps_per_epoch=len(training_set),\n",
        "  validation_steps=len(test_set)\n",
        ")"
      ],
      "metadata": {
        "colab": {
          "base_uri": "https://localhost:8080/"
        },
        "id": "DdEKyIN43xwq",
        "outputId": "947e71c0-7c6f-474c-a38e-f4fdaf04ad6e"
      },
      "execution_count": null,
      "outputs": [
        {
          "output_type": "stream",
          "name": "stderr",
          "text": [
            "<ipython-input-14-694816f4f14b>:1: UserWarning: `Model.fit_generator` is deprecated and will be removed in a future version. Please use `Model.fit`, which supports generators.\n",
            "  r = model.fit_generator(\n"
          ]
        },
        {
          "output_type": "stream",
          "name": "stdout",
          "text": [
            "Epoch 1/15\n",
            "9/9 [==============================] - 166s 17s/step - loss: 2.6904 - accuracy: 0.3619 - val_loss: 2.3400 - val_accuracy: 0.4571\n",
            "Epoch 2/15\n",
            "9/9 [==============================] - 7s 730ms/step - loss: 1.1161 - accuracy: 0.6265 - val_loss: 0.9630 - val_accuracy: 0.5714\n",
            "Epoch 3/15\n",
            "9/9 [==============================] - 6s 611ms/step - loss: 0.5430 - accuracy: 0.8171 - val_loss: 0.9736 - val_accuracy: 0.7143\n",
            "Epoch 4/15\n",
            "9/9 [==============================] - 6s 730ms/step - loss: 0.3972 - accuracy: 0.8599 - val_loss: 0.7987 - val_accuracy: 0.6857\n",
            "Epoch 5/15\n",
            "9/9 [==============================] - 6s 605ms/step - loss: 0.2503 - accuracy: 0.8988 - val_loss: 0.9508 - val_accuracy: 0.7143\n",
            "Epoch 6/15\n",
            "9/9 [==============================] - 6s 683ms/step - loss: 0.1332 - accuracy: 0.9689 - val_loss: 0.6813 - val_accuracy: 0.8571\n",
            "Epoch 7/15\n",
            "9/9 [==============================] - 6s 595ms/step - loss: 0.1123 - accuracy: 0.9611 - val_loss: 0.8582 - val_accuracy: 0.7714\n",
            "Epoch 8/15\n",
            "9/9 [==============================] - 7s 838ms/step - loss: 0.0997 - accuracy: 0.9805 - val_loss: 0.6370 - val_accuracy: 0.7714\n",
            "Epoch 9/15\n",
            "9/9 [==============================] - 6s 645ms/step - loss: 0.0985 - accuracy: 0.9728 - val_loss: 0.9240 - val_accuracy: 0.7143\n",
            "Epoch 10/15\n",
            "9/9 [==============================] - 6s 612ms/step - loss: 0.0697 - accuracy: 0.9883 - val_loss: 0.6293 - val_accuracy: 0.8286\n",
            "Epoch 11/15\n",
            "9/9 [==============================] - 7s 754ms/step - loss: 0.0568 - accuracy: 1.0000 - val_loss: 0.7775 - val_accuracy: 0.8286\n",
            "Epoch 12/15\n",
            "9/9 [==============================] - 6s 600ms/step - loss: 0.0561 - accuracy: 0.9922 - val_loss: 0.7631 - val_accuracy: 0.7714\n",
            "Epoch 13/15\n",
            "9/9 [==============================] - 7s 746ms/step - loss: 0.0424 - accuracy: 0.9961 - val_loss: 0.7526 - val_accuracy: 0.8286\n",
            "Epoch 14/15\n",
            "9/9 [==============================] - 6s 604ms/step - loss: 0.0417 - accuracy: 0.9961 - val_loss: 0.7278 - val_accuracy: 0.7714\n",
            "Epoch 15/15\n",
            "9/9 [==============================] - 6s 685ms/step - loss: 0.0305 - accuracy: 1.0000 - val_loss: 0.7973 - val_accuracy: 0.8000\n"
          ]
        }
      ]
    },
    {
      "cell_type": "code",
      "source": [
        "import matplotlib.pyplot as plt\n",
        "plt.plot(r.history['loss'], label='train loss')\n",
        "plt.plot(r.history['val_loss'], label='val loss')\n",
        "plt.legend()\n",
        "plt.show()\n",
        "plt.savefig('LossVal_loss')\n",
        "\n",
        "# plot the accuracy\n",
        "plt.plot(r.history['accuracy'], label='train acc')\n",
        "plt.plot(r.history['val_accuracy'], label='val acc')\n",
        "plt.legend()\n",
        "plt.show()\n",
        "plt.savefig('AccVal_acc')"
      ],
      "metadata": {
        "colab": {
          "base_uri": "https://localhost:8080/",
          "height": 530
        },
        "id": "MXnwGp7A4ktC",
        "outputId": "f573b6d0-f6de-4520-cd6a-82b6b0bf36b4"
      },
      "execution_count": null,
      "outputs": [
        {
          "output_type": "display_data",
          "data": {
            "text/plain": [
              "<Figure size 432x288 with 1 Axes>"
            ],
            "image/png": "[encoded data removed]"
          },
          "metadata": {
            "needs_background": "light"
          }
        },
        {
          "output_type": "display_data",
          "data": {
            "text/plain": [
              "<Figure size 432x288 with 1 Axes>"
            ],
            "image/png": "[encoded data removed]"
          },
          "metadata": {
            "needs_background": "light"
          }
        },
        {
          "output_type": "display_data",
          "data": {
            "text/plain": [
              "<Figure size 432x288 with 0 Axes>"
            ]
          },
          "metadata": {}
        }
      ]
    },
    {
      "cell_type": "code",
      "source": [
        "import tensorflow as tf\n",
        "tf.keras.models.save_model(model,'vgg16_model.hdf5')"
      ],
      "metadata": {
        "id": "hgheUAelan3L"
      },
      "execution_count": null,
      "outputs": []
    }
  ]
}